{
 "cells": [
  {
   "cell_type": "markdown",
   "metadata": {},
   "source": [
    "# List Comprehension\n",
    "https://docs.python.org/3/whatsnew/2.0.html#list-comprehensions                                                                                                                                            \n",
    "FUNCTION ---> DESCRIPTION                                                                                                                                                                                   \n",
    "Append()--->Add an element to the end of the list                                                                                                                                                          \n",
    "Extend()--->Add all elements of a list to the another list                                                                                                                                                 \n",
    "Insert()--->Insert an item at the defined index                                                                                                                                                             \n",
    "Remove()--->Removes an item from the list                                                                                                                                                                  \n",
    "Pop()--->Removes and returns an element at the given index                                                                                                                                                 \n",
    "Clear()--->Removes all items from the list                                                                                                                                                                 \n",
    "Index()--->Returns the index of the first matched item                                                                                                                                                     \n",
    "Count()--->Returns the count of number of items passed as an argument                                                                                                                                       \n",
    "Sort()--->Sort items in a list in ascending order                                                                                                                                                           \n",
    "Reverse()--->Reverse the order of items in the list                                                                                                                                                         \n",
    "copy()--->Returns a copy of the list                                                                                                                                                                       "
   ]
  },
  {
   "cell_type": "code",
   "execution_count": 6,
   "metadata": {},
   "outputs": [
    {
     "name": "stdout",
     "output_type": "stream",
     "text": [
      "\n",
      "List Blank Result : \n",
      "[]\n"
     ]
    }
   ],
   "source": [
    "# Create list\n",
    "List = []\n",
    "print(\"\\nList Blank Result : \")\n",
    "print(List)"
   ]
  },
  {
   "cell_type": "code",
   "execution_count": 5,
   "metadata": {},
   "outputs": [
    {
     "name": "stdout",
     "output_type": "stream",
     "text": [
      "\n",
      "List multiple list values: \n",
      "AL Statistic\n"
     ]
    }
   ],
   "source": [
    "List = [\"AL\",\"ML\",\"Statistic\",\"Python\"]\n",
    "print(\"\\nList multiple list values : \")\n",
    "print(List[0],List[2]) "
   ]
  },
  {
   "cell_type": "markdown",
   "metadata": {},
   "source": [
    "# Adding Elements to a List\n",
    "Elements can be added to the List by using built-in append() function."
   ]
  },
  {
   "cell_type": "markdown",
   "metadata": {},
   "source": [
    "#### Using append() method\n",
    "Append()--->Add an element to the end of the list  "
   ]
  },
  {
   "cell_type": "code",
   "execution_count": 10,
   "metadata": {},
   "outputs": [
    {
     "name": "stdout",
     "output_type": "stream",
     "text": [
      "\n",
      "List additional three value :\n",
      "['Kocaeli', 'Istanbul', 'Sakarya']\n"
     ]
    }
   ],
   "source": [
    "List =[]\n",
    "List.append(\"Kocaeli\")\n",
    "List.append(\"Istanbul\")\n",
    "List.append(\"Sakarya\")\n",
    "print(\"\\nList additional three value :\")\n",
    "print(List)"
   ]
  },
  {
   "cell_type": "code",
   "execution_count": 14,
   "metadata": {},
   "outputs": [
    {
     "name": "stdout",
     "output_type": "stream",
     "text": [
      "\n",
      " after Addition of elements from 1-5 :\n",
      "['Kocaeli', 'Istanbul', 'Sakarya', 1, 2, 3, 4, 1, 2, 3, 4]\n"
     ]
    }
   ],
   "source": [
    "# Using Iterator (Iterator = The process of visiting elements in the container object sequentially)\n",
    "for i in range(1,5):\n",
    "    List.append(i)\n",
    "print(\"\\n after Addition of elements from 1-5 :\")    \n",
    "print (List)"
   ]
  },
  {
   "cell_type": "code",
   "execution_count": 20,
   "metadata": {},
   "outputs": [
    {
     "name": "stdout",
     "output_type": "stream",
     "text": [
      "<class 'tuple'>\n",
      "<class 'list'>\n",
      "\n",
      "List after Addition of a Tuple:\n",
      "[(1, 2)]\n"
     ]
    }
   ],
   "source": [
    "# Adding Tuples to the List \n",
    "tupleList = ()\n",
    "List =[]\n",
    "\n",
    "print (type(tupleList))\n",
    "print (type(List))\n",
    "\n",
    "\n",
    "List.append((1,2))\n",
    "print(\"\\nList after Addition of a Tuple:\")\n",
    "print(List)\n"
   ]
  },
  {
   "cell_type": "markdown",
   "metadata": {},
   "source": [
    "#### Using insert() method\n",
    "insert()---> method requires two arguments(position, value)"
   ]
  },
  {
   "cell_type": "code",
   "execution_count": 25,
   "metadata": {},
   "outputs": [
    {
     "name": "stdout",
     "output_type": "stream",
     "text": [
      "\n",
      " List :  [41, 54, 34, 11]\n",
      "\n",
      " insert List :  ['GS', 41, 3, 54, 34, 11]\n"
     ]
    }
   ],
   "source": [
    "List = [41,54,34,11]\n",
    "print(\"\\n List : \", List)\n",
    "\n",
    "List.insert(1,3)\n",
    "List.insert(0,\"GS\")\n",
    "print(\"\\n insert List : \", List)"
   ]
  },
  {
   "cell_type": "markdown",
   "metadata": {},
   "source": [
    "#### Using extend() method\n",
    "extend()---> this method is used to add multiple elements at the same time at the end of the list."
   ]
  },
  {
   "cell_type": "code",
   "execution_count": 28,
   "metadata": {},
   "outputs": [
    {
     "name": "stdout",
     "output_type": "stream",
     "text": [
      "\n",
      "List extend multiple adding:  [1, 2, 3, 4, 5, '6', '7', '8']\n"
     ]
    }
   ],
   "source": [
    "List = [1,2,3,4,5]\n",
    "List.extend([\"6\",\"7\",\"8\"])\n",
    "print(\"\\nList extend multiple adding: \",List)"
   ]
  },
  {
   "cell_type": "code",
   "execution_count": 33,
   "metadata": {},
   "outputs": [
    {
     "name": "stdout",
     "output_type": "stream",
     "text": [
      "6\n",
      "Kaggle\n"
     ]
    }
   ],
   "source": [
    "# Negative indexing\n",
    "List = [1, 2, 'Kaggle', 4, ('Jupyter'), 6, 'Spyder'] \n",
    "print(List[-2])\n",
    "print(List[-5])"
   ]
  },
  {
   "cell_type": "markdown",
   "metadata": {},
   "source": [
    "#### Using remove() method\n",
    "remove()---> method removes the specified item"
   ]
  },
  {
   "cell_type": "code",
   "execution_count": 35,
   "metadata": {},
   "outputs": [
    {
     "name": "stdout",
     "output_type": "stream",
     "text": [
      "[1, 2, 3, 4, 7, 8, 9]\n"
     ]
    }
   ],
   "source": [
    "List= [1,2,3,4,5,6,7,8,9]\n",
    "List.remove(5)\n",
    "List.remove(6)\n",
    "print (List)"
   ]
  },
  {
   "cell_type": "code",
   "execution_count": 36,
   "metadata": {},
   "outputs": [
    {
     "name": "stdout",
     "output_type": "stream",
     "text": [
      "\n",
      " List range elements :  [2, 3, 4, 5, 6, 7, 8, 9, 10]\n",
      "\n",
      " List range elements :  [3, 4, 5, 6, 7, 8, 9, 10]\n",
      "\n",
      " List range elements :  [4, 5, 6, 7, 8, 9, 10]\n",
      "\n",
      " List range elements :  [5, 6, 7, 8, 9, 10]\n"
     ]
    }
   ],
   "source": [
    "#Using Iterator Removing elements from List\n",
    "List = [1,2,3,4,5,6,7,8,9,10]\n",
    "for i in range(1,5):\n",
    "    List.remove(i)\n",
    "    print(\"\\n List range elements : \",List)"
   ]
  },
  {
   "cell_type": "markdown",
   "metadata": {},
   "source": [
    "#### Using pop() method\n",
    "pop()---> This method returns the removed object from the list."
   ]
  },
  {
   "cell_type": "code",
   "execution_count": 39,
   "metadata": {},
   "outputs": [
    {
     "name": "stdout",
     "output_type": "stream",
     "text": [
      "\n",
      " List 1 :  kaggle\n",
      "\n",
      " List 3 :  jupyter\n"
     ]
    }
   ],
   "source": [
    "list = [123,\"xyz\",\"jupyter\",\"kaggle\"]\n",
    "print(\"\\n List 1 : \",list.pop())\n",
    "print(\"\\n List 3 : \",list.pop(2))"
   ]
  },
  {
   "cell_type": "markdown",
   "metadata": {},
   "source": [
    "#### Using clear() method"
   ]
  },
  {
   "cell_type": "code",
   "execution_count": 46,
   "metadata": {},
   "outputs": [
    {
     "name": "stdout",
     "output_type": "stream",
     "text": [
      "List elements after extending are : 1 2 3 4 5 6 \n",
      "\n",
      "List1 elements []\n"
     ]
    }
   ],
   "source": [
    "list1 = [1,2,3]\n",
    "list2 = [4,5,6]\n",
    "list1.extend(list2)\n",
    "\n",
    "print (\"List elements after extending are : \", end=\"\") \n",
    "for i in range(0, len(list1)): \n",
    "    print(list1[i], end=\" \") \n",
    "      \n",
    "print (\"\\r\")\n",
    "\n",
    "list1.clear()\n",
    "\n",
    "print(\"\\nList1 elements\",list1)"
   ]
  },
  {
   "cell_type": "markdown",
   "metadata": {},
   "source": [
    "#### Using index() method\n",
    "Index()--->Returns the index of the first matched item\n",
    "list_name.index(element, start, end)"
   ]
  },
  {
   "cell_type": "code",
   "execution_count": 56,
   "metadata": {},
   "outputs": [
    {
     "name": "stdout",
     "output_type": "stream",
     "text": [
      "[1, 2, 3, 4, 5, 6, 7, 8, 9]\n",
      "\n",
      " Numbers sorting [1, 2, 3, 4, 5, 6, 7, 8, 9] for value = 8  index number : 7\n"
     ]
    }
   ],
   "source": [
    "numbers = [1,2,3,7,9,8,4,5,6]\n",
    "numbers.sort()\n",
    "print (numbers)\n",
    "\n",
    "print(\"\\n Numbers sorting [1, 2, 3, 4, 5, 6, 7, 8, 9] for value = 8  index number :\",numbers.index(8))"
   ]
  },
  {
   "cell_type": "markdown",
   "metadata": {},
   "source": [
    "#### Using Count() method\n",
    "Count()--->Returns the count of number of items passed as an argument                                                                                                                                       \n",
    "list.count(x)  ---> x object retrieval counts how many occurrences and returns a value"
   ]
  },
  {
   "cell_type": "code",
   "execution_count": 62,
   "metadata": {},
   "outputs": [
    {
     "name": "stdout",
     "output_type": "stream",
     "text": [
      "\n",
      " c value :  2\n",
      "\n",
      " 123 value :  2\n"
     ]
    }
   ],
   "source": [
    "x = [\"c\",\"a\",\"c\",\"a\",123,23,34,41,41,12,123]\n",
    "print (\"\\n c value : \", x.count(\"c\"))\n",
    "print (\"\\n 123 value : \", x.count(123))"
   ]
  },
  {
   "cell_type": "markdown",
   "metadata": {},
   "source": [
    "#### Using Reverse() method\n",
    "Reverse()--->Reverse the order of items in the list                                                                                                                                                         \n",
    "No return value reverses the given object"
   ]
  },
  {
   "cell_type": "code",
   "execution_count": 64,
   "metadata": {},
   "outputs": [
    {
     "name": "stdout",
     "output_type": "stream",
     "text": [
      "\n",
      "reverse() :  ['d', 'bc', 'a', 2, 1, 321, 123]\n"
     ]
    }
   ],
   "source": [
    "xList = [123,321,1,2,\"a\",\"bc\",\"d\"]\n",
    "xList.reverse()\n",
    "print(\"\\nreverse() : \",xList)"
   ]
  },
  {
   "cell_type": "code",
   "execution_count": null,
   "metadata": {},
   "outputs": [],
   "source": []
  }
 ],
 "metadata": {
  "kernelspec": {
   "display_name": "Python 3",
   "language": "python",
   "name": "python3"
  },
  "language_info": {
   "codemirror_mode": {
    "name": "ipython",
    "version": 3
   },
   "file_extension": ".py",
   "mimetype": "text/x-python",
   "name": "python",
   "nbconvert_exporter": "python",
   "pygments_lexer": "ipython3",
   "version": "3.7.3"
  }
 },
 "nbformat": 4,
 "nbformat_minor": 4
}
