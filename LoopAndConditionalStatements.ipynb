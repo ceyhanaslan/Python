{
 "cells": [
  {
   "cell_type": "markdown",
   "metadata": {},
   "source": [
    "# What are Conditional Statements?\n",
    "Conditional Statement in Python Performing different computations or actions depending on whether a specific Boolean constraint evaluates to true or false. Conditional statements are handled by IF statements in Python.\n",
    "\n",
    "In this tutorial, we will see how to apply conditional statements in Python.\n",
    "> "
   ]
  },
  {
   "cell_type": "markdown",
   "metadata": {},
   "source": [
    "We use three statements to specify conditional states in the Python programming language:\n",
    "\n",
    ". if                                                                                                                                                                                     . elif                                                                                                                                                                                   . else"
   ]
  },
  {
   "cell_type": "code",
   "execution_count": 7,
   "metadata": {},
   "outputs": [
    {
     "name": "stdin",
     "output_type": "stream",
     "text": [
      "Please enter age :  18\n"
     ]
    },
    {
     "name": "stdout",
     "output_type": "stream",
     "text": [
      "\t18 is good.\n"
     ]
    }
   ],
   "source": [
    "age = int(input(\"Please enter age : \"))\n",
    "if  age == 18 :\n",
    "    print (\"\\t18 is good.\")\n",
    "elif age == 0 :    \n",
    "    print (\"\\t0 what is this ? \")\n",
    "elif (age > 12) and  (age < 18) :\n",
    "    print (\"\\tPretty Young\")\n",
    "else :\n",
    "    print(\"\\t bla bla\")"
   ]
  },
  {
   "cell_type": "markdown",
   "metadata": {},
   "source": [
    "# Loop and Advanced Loop\n",
    "Functions are structures that have certain functions in programming and that we use repeatedly, for this there are two kinds of loops in python,                                         \n",
    ". while                                                                                                                                                                                  \n",
    ". for"
   ]
  },
  {
   "cell_type": "code",
   "execution_count": null,
   "metadata": {},
   "outputs": [],
   "source": [
    "enterKey = \"\"\"\n",
    "(1) Addition (+)\n",
    "(2) Subtraction (-)\n",
    "(3) Multiplication (×)\n",
    "(4) Division (÷)\n",
    "(5) Square (**)\n",
    "(6) Square root x(1/2)\n",
    " \"\"\"\n",
    "print(enterKey) \n",
    "keyValue = 1\n",
    "\n",
    "while key == 1:\n",
    "    ques = \"What do you want to do (Exit enter  q) :\"\n",
    "if ques == \"q\":\n",
    "    print(\"exiting...\")\n",
    "    key = 0\n",
    "elif ques == \"1\" :\n",
    "    num1 = int (input (\"for Addition (+) num 1 =\"))\n",
    "    num2 = int (input (\"for Addition (+) num 2 =\"))\n",
    "    print (num1 ,\"+\", num2 ,\"=\", num1 + num2)\n",
    "elif ques == \"2\" :\n",
    "    num3 = int (input (\"for Subtraction (-) num 3 =\"))\n",
    "    num4 = int (input (\"for Subtraction (-) num 4 =\"))\n",
    "    print(num3, \"-\", num4 ,\"=\", num3-num4)\n",
    "elif ques == \"3\" : \n",
    "    num5 = int (input (\"for Multiplication (×) num 5 =\"))\n",
    "    num6 = int (input (\"for Multiplication (×) num 6 =\"))\n",
    "    print(num5, \"*\", num6 ,\"=\", num5*num6)\n",
    "elif ques == \"4\" : \n",
    "    num7 = int (input (\"for Division (÷) num 7 =\"))\n",
    "    num8 = int (input (\"for Division (÷) num 8 =\"))\n",
    "    print(num7, \"/\", num8 ,\"=\", num7*num8)    \n",
    "elif ques == \"5\" : \n",
    "    num9 = int(input (\"Calculate square (**) = \"))\n",
    "    print (num9 ,\"square =\", num9**2)\n",
    "elif ques ==  \"6\" :\n",
    "    num10 = int ( input (\"Calculate square root (x(1/2)) =\"))\n",
    "    print(num10,\"Square Root =\",num10**0.5)\n",
    "else: \n",
    "    print(\"Wrong Choice ...\")\n",
    "    print(\"Wrong EnterKey Choice\",enterKey)\n",
    "    "
   ]
  },
  {
   "cell_type": "code",
   "execution_count": null,
   "metadata": {},
   "outputs": [],
   "source": []
  }
 ],
 "metadata": {
  "kernelspec": {
   "display_name": "Python 3",
   "language": "python",
   "name": "python3"
  },
  "language_info": {
   "codemirror_mode": {
    "name": "ipython",
    "version": 3
   },
   "file_extension": ".py",
   "mimetype": "text/x-python",
   "name": "python",
   "nbconvert_exporter": "python",
   "pygments_lexer": "ipython3",
   "version": "3.7.3"
  }
 },
 "nbformat": 4,
 "nbformat_minor": 4
}
