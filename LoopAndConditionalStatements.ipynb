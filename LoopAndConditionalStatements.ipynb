{
 "cells": [
  {
   "cell_type": "markdown",
   "metadata": {},
   "source": [
    "# What are Conditional Statements?\n",
    "Conditional Statement in Python Performing different computations or actions depending on whether a specific Boolean constraint evaluates to true or false. Conditional statements are handled by IF statements in Python.\n",
    "\n",
    "In this tutorial, we will see how to apply conditional statements in Python.\n",
    "> "
   ]
  },
  {
   "cell_type": "markdown",
   "metadata": {},
   "source": [
    "We use three statements to specify conditional states in the Python programming language:\n",
    "\n",
    ". if                                                                                                                                                                                     . elif                                                                                                                                                                                   . else"
   ]
  },
  {
   "cell_type": "code",
   "execution_count": 7,
   "metadata": {},
   "outputs": [
    {
     "name": "stdin",
     "output_type": "stream",
     "text": [
      "Please enter age :  18\n"
     ]
    },
    {
     "name": "stdout",
     "output_type": "stream",
     "text": [
      "\t18 is good.\n"
     ]
    }
   ],
   "source": [
    "age = int(input(\"Please enter age : \"))\n",
    "if  age == 18 :\n",
    "    print (\"\\t18 is good.\")\n",
    "elif age == 0 :    \n",
    "    print (\"\\t0 what is this ? \")\n",
    "elif (age > 12) and  (age < 18) :\n",
    "    print (\"\\tPretty Young\")\n",
    "else :\n",
    "    print(\"\\t bla bla\")"
   ]
  },
  {
   "cell_type": "markdown",
   "metadata": {},
   "source": [
    "# Loop and Advanced Loop\n",
    "Functions are structures that have certain functions in programming and that we use repeatedly, for this there are two kinds of loops in python,                                         \n",
    ". while                                                                                                                                                                                  \n",
    ". for"
   ]
  }
 ],
 "metadata": {
  "kernelspec": {
   "display_name": "Python 3",
   "language": "python",
   "name": "python3"
  },
  "language_info": {
   "codemirror_mode": {
    "name": "ipython",
    "version": 3
   },
   "file_extension": ".py",
   "mimetype": "text/x-python",
   "name": "python",
   "nbconvert_exporter": "python",
   "pygments_lexer": "ipython3",
   "version": "3.7.3"
  }
 },
 "nbformat": 4,
 "nbformat_minor": 4
}
