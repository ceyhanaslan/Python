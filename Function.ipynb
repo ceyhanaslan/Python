{
 "cells": [
  {
   "cell_type": "markdown",
   "metadata": {},
   "source": [
    "# Character String Methods\n",
    "The len() function returns the number of items in an object."
   ]
  },
  {
   "cell_type": "code",
   "execution_count": 12,
   "metadata": {},
   "outputs": [
    {
     "name": "stdout",
     "output_type": "stream",
     "text": [
      "Result  : llo\n",
      "Result2 : lo \n"
     ]
    }
   ],
   "source": [
    "xMsg = \"Hello Python and ML and AL\"\n",
    "print (\"Result  : \"+xMsg[2:5])\n",
    "newMsg = xMsg[3:6]\n",
    "print(\"Result2 : \"+newMsg)"
   ]
  },
  {
   "cell_type": "code",
   "execution_count": 13,
   "metadata": {},
   "outputs": [
    {
     "name": "stdout",
     "output_type": "stream",
     "text": [
      "26\n"
     ]
    }
   ],
   "source": [
    "# xMsg length\n",
    "print(len(xMsg))"
   ]
  },
  {
   "cell_type": "code",
   "execution_count": 14,
   "metadata": {},
   "outputs": [],
   "source": [
    "#Len Function\n",
    "newMsg2 = xMsg[len(xMsg)-2:len(xMsg)]"
   ]
  },
  {
   "cell_type": "code",
   "execution_count": 15,
   "metadata": {},
   "outputs": [
    {
     "name": "stdout",
     "output_type": "stream",
     "text": [
      "Result :AL\n"
     ]
    }
   ],
   "source": [
    "print (\"Result :\"+newMsg2)"
   ]
  },
  {
   "cell_type": "markdown",
   "metadata": {},
   "source": [
    "# String Function - Lower Upper islower isupper \n",
    "He string lower() method converts all uppercase characters in a string into lowercase characters and returns it."
   ]
  },
  {
   "cell_type": "code",
   "execution_count": 16,
   "metadata": {},
   "outputs": [
    {
     "name": "stdout",
     "output_type": "stream",
     "text": [
      "Result Lower newMsg2 Text : al\n",
      "Result Lower newMsg2 Text : AL\n"
     ]
    },
    {
     "data": {
      "text/plain": [
       "True"
      ]
     },
     "execution_count": 16,
     "metadata": {},
     "output_type": "execute_result"
    }
   ],
   "source": [
    "print(\"Result Lower newMsg2 Text : \" +newMsg2.lower())\n",
    "print(\"Result Lower newMsg2 Text : \" +newMsg2.upper())\n",
    "\n",
    "# isupper,islower \n",
    "upperControl = \"BIG DATA\"\n",
    "upperControl.isupper()\n",
    "\n",
    "lowerControl = \"big data\"\n",
    "lowerControl.islower() "
   ]
  },
  {
   "cell_type": "code",
   "execution_count": 18,
   "metadata": {},
   "outputs": [
    {
     "name": "stdin",
     "output_type": "stream",
     "text": [
      "Enter Value :  UPPER CASE\n"
     ]
    }
   ],
   "source": [
    "value = input(\"Enter Value : \")\n",
    "if not value.isupper():\n",
    "    print(\"Please enter upper case !\")   "
   ]
  },
  {
   "cell_type": "code",
   "execution_count": 19,
   "metadata": {},
   "outputs": [
    {
     "name": "stdin",
     "output_type": "stream",
     "text": [
      "Enter Value :  Lower Case\n"
     ]
    },
    {
     "name": "stdout",
     "output_type": "stream",
     "text": [
      "Please enter lower case !\n"
     ]
    }
   ],
   "source": [
    "value = input(\"Enter Value : \")\n",
    "if not value.islower():\n",
    "    print(\"Please enter lower case !\")"
   ]
  },
  {
   "cell_type": "markdown",
   "metadata": {},
   "source": [
    "# String Function - Replace\n",
    "Replace () is a built-in function in the that returns a copy of the string in which all occurrences of one substring are replaced with another.                                         \n",
    "Syntax : string.replace(old, new, count)"
   ]
  },
  {
   "cell_type": "code",
   "execution_count": 21,
   "metadata": {},
   "outputs": [
    {
     "name": "stdout",
     "output_type": "stream",
     "text": [
      "Change xMsg : Hello Python and MachineLearning and Artificial Intelligence\n",
      "ML replace : 'Hello Python and MachineLearning and Artificial Intelligence'\n",
      "AL replace : 'Hello Python and MachineLearning and Artificial Intelligence'\n"
     ]
    }
   ],
   "source": [
    "#The leader of the assignment for the change to take effect.\n",
    "xMsg = xMsg.replace(\"ML\",\"MachineLearning\")\n",
    "xMsg = xMsg.replace(\"AL\",\"Artificial Intelligence\")\n",
    "print(\"Change xMsg : \"+ xMsg)\n",
    "\n",
    "#No changes were made, only the value was printed.\n",
    "print(\"ML replace : \"+\"'\"+xMsg.replace(\"ML\",\"MachineLearning\")+\"'\")\n",
    "print(\"AL replace : \"+\"'\"+xMsg.replace(\"AL\",\"Artificial Intelligence\")+\"'\")"
   ]
  },
  {
   "cell_type": "markdown",
   "metadata": {},
   "source": [
    "# String Function - strip(),split()\n",
    "Split () method returns a list of strings after breaking the given string by the specified separator.                                                                                                       \n",
    "str.split(separator, maxsplit)                                                                                                                                                                             \n",
    "Strip () in-built function of Python is used to remove all the leading and trailing spaces from a string.                                                                                                   \n",
    "string.strip([remove])"
   ]
  },
  {
   "cell_type": "code",
   "execution_count": 10,
   "metadata": {},
   "outputs": [
    {
     "name": "stdout",
     "output_type": "stream",
     "text": [
      "Result Caption : Python\n",
      "Result Value : ['Atlas', 'Yazılım']\n",
      "Result I : Atlas\n",
      "Result I : Yazılım\n"
     ]
    }
   ],
   "source": [
    "# String Function - strip and split\n",
    "# If you do not give any value splits from space\n",
    "# Divides the character string at certain points\n",
    "\n",
    "caption = \"Python;Programming;Language\".strip()\n",
    "print(\"Result Caption : \"+caption.split(\";\")[0])\n",
    "\n",
    "value = \"Atlas Yazılım\"\n",
    "print(\"Result Value : \"+ str(value.split()))\n",
    "\n",
    "# if we want to do with the for loop\n",
    "for i in value.split():\n",
    "    print (\"Result I : \"+i)"
   ]
  },
  {
   "cell_type": "code",
   "execution_count": 11,
   "metadata": {},
   "outputs": [
    {
     "name": "stdin",
     "output_type": "stream",
     "text": [
      "Please you want to divide enter value:  MUSTAFA KEMAL ATATÜRK\n"
     ]
    },
    {
     "name": "stdout",
     "output_type": "stream",
     "text": [
      "M K A "
     ]
    }
   ],
   "source": [
    "# Taking data from outside for Loop\n",
    "giveValue = input(\"Please you want to divide enter value: \")\n",
    "for i in giveValue.split():\n",
    "    print(i[0] ,end=\" \")"
   ]
  },
  {
   "cell_type": "markdown",
   "metadata": {},
   "source": [
    "# startswith() endswith()\n",
    "endswith() This method we can query which character string ends with a string.                                                                                                                             \n",
    "startswith() This method we can query which character string starts with a string. "
   ]
  },
  {
   "cell_type": "code",
   "execution_count": 23,
   "metadata": {},
   "outputs": [
    {
     "data": {
      "text/plain": [
       "True"
      ]
     },
     "execution_count": 23,
     "metadata": {},
     "output_type": "execute_result"
    }
   ],
   "source": [
    "valueEnd = \"Example\"\n",
    "valueEnd.endswith(\"e\")"
   ]
  },
  {
   "cell_type": "code",
   "execution_count": 24,
   "metadata": {},
   "outputs": [
    {
     "data": {
      "text/plain": [
       "False"
      ]
     },
     "execution_count": 24,
     "metadata": {},
     "output_type": "execute_result"
    }
   ],
   "source": [
    "valueEnd = \"Example\"\n",
    "valueEnd.startswith(\"x\")"
   ]
  },
  {
   "cell_type": "code",
   "execution_count": 25,
   "metadata": {},
   "outputs": [],
   "source": [
    "#Aciklama"
   ]
  },
  {
   "cell_type": "code",
   "execution_count": null,
   "metadata": {},
   "outputs": [],
   "source": []
  }
 ],
 "metadata": {
  "kernelspec": {
   "display_name": "Python 3",
   "language": "python",
   "name": "python3"
  },
  "language_info": {
   "codemirror_mode": {
    "name": "ipython",
    "version": 3
   },
   "file_extension": ".py",
   "mimetype": "text/x-python",
   "name": "python",
   "nbconvert_exporter": "python",
   "pygments_lexer": "ipython3",
   "version": "3.7.3"
  }
 },
 "nbformat": 4,
 "nbformat_minor": 4
}
