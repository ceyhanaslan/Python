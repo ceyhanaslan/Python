{
 "cells": [
  {
   "cell_type": "markdown",
   "metadata": {},
   "source": [
    "# String Function Len \n",
    "The len() function returns the number of items in an object."
   ]
  },
  {
   "cell_type": "code",
   "execution_count": 8,
   "metadata": {},
   "outputs": [
    {
     "name": "stdout",
     "output_type": "stream",
     "text": [
      "Result  : llo\n",
      "Result2 : lo \n"
     ]
    }
   ],
   "source": [
    "xMsg = \"Hello Python and ML and AL\"\n",
    "print (\"Result  : \"+xMsg[2:5])\n",
    "newMsg = xMsg[3:6]\n",
    "print(\"Result2 : \"+newMsg)"
   ]
  },
  {
   "cell_type": "code",
   "execution_count": 10,
   "metadata": {},
   "outputs": [
    {
     "name": "stdout",
     "output_type": "stream",
     "text": [
      "26\n"
     ]
    }
   ],
   "source": [
    "# xMsg length\n",
    "print(len(xMsg))"
   ]
  },
  {
   "cell_type": "code",
   "execution_count": 20,
   "metadata": {},
   "outputs": [],
   "source": [
    "#Len Function\n",
    "newMsg2 = xMsg[len(xMsg)-2:len(xMsg)]"
   ]
  },
  {
   "cell_type": "code",
   "execution_count": 21,
   "metadata": {},
   "outputs": [
    {
     "name": "stdout",
     "output_type": "stream",
     "text": [
      "Result :AL\n"
     ]
    }
   ],
   "source": [
    "print (\"Result :\"+newMsg2)"
   ]
  },
  {
   "cell_type": "markdown",
   "metadata": {},
   "source": [
    "# String Function - Lower Upper\n",
    "He string lower() method converts all uppercase characters in a string into lowercase characters and returns it."
   ]
  },
  {
   "cell_type": "code",
   "execution_count": 25,
   "metadata": {},
   "outputs": [
    {
     "name": "stdout",
     "output_type": "stream",
     "text": [
      "Result Lower Text : al\n"
     ]
    }
   ],
   "source": [
    "print(\"Result Lower newMsg2 Text : \" +newMsg2.lower())"
   ]
  },
  {
   "cell_type": "code",
   "execution_count": 26,
   "metadata": {},
   "outputs": [
    {
     "name": "stdout",
     "output_type": "stream",
     "text": [
      "Result Upper xMsg Text : HELLO PYTHON AND ML AND AL\n"
     ]
    }
   ],
   "source": [
    "print(\"Result Upper xMsg Text : \" +xMsg.upper())"
   ]
  }
 ],
 "metadata": {
  "kernelspec": {
   "display_name": "Python 3",
   "language": "python",
   "name": "python3"
  },
  "language_info": {
   "codemirror_mode": {
    "name": "ipython",
    "version": 3
   },
   "file_extension": ".py",
   "mimetype": "text/x-python",
   "name": "python",
   "nbconvert_exporter": "python",
   "pygments_lexer": "ipython3",
   "version": "3.7.3"
  }
 },
 "nbformat": 4,
 "nbformat_minor": 4
}
